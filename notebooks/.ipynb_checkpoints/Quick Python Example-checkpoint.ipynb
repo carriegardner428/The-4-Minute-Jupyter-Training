{
 "cells": [
  {
   "cell_type": "markdown",
   "id": "hired-disposal",
   "metadata": {},
   "source": [
    "# Python Time!"
   ]
  },
  {
   "cell_type": "code",
   "execution_count": 1,
   "id": "superb-powder",
   "metadata": {},
   "outputs": [
    {
     "name": "stdout",
     "output_type": "stream",
     "text": [
      "The Zen of Python, by Tim Peters\n",
      "\n",
      "Beautiful is better than ugly.\n",
      "Explicit is better than implicit.\n",
      "Simple is better than complex.\n",
      "Complex is better than complicated.\n",
      "Flat is better than nested.\n",
      "Sparse is better than dense.\n",
      "Readability counts.\n",
      "Special cases aren't special enough to break the rules.\n",
      "Although practicality beats purity.\n",
      "Errors should never pass silently.\n",
      "Unless explicitly silenced.\n",
      "In the face of ambiguity, refuse the temptation to guess.\n",
      "There should be one-- and preferably only one --obvious way to do it.\n",
      "Although that way may not be obvious at first unless you're Dutch.\n",
      "Now is better than never.\n",
      "Although never is often better than *right* now.\n",
      "If the implementation is hard to explain, it's a bad idea.\n",
      "If the implementation is easy to explain, it may be a good idea.\n",
      "Namespaces are one honking great idea -- let's do more of those!\n"
     ]
    }
   ],
   "source": [
    "import this"
   ]
  },
  {
   "cell_type": "code",
   "execution_count": 21,
   "id": "mineral-piece",
   "metadata": {},
   "outputs": [],
   "source": [
    "awesome_qualities = [\"warm weather.\",\n",
    "                     \"tacos.\",\n",
    "                     \"salsa.\",\n",
    "                     \"margaritas.\",\n",
    "                     \"Texas Two Step.\",\n",
    "                     \"bluebonnets.\",\n",
    "                     \"Dallas Cowboys!\"]"
   ]
  },
  {
   "cell_type": "code",
   "execution_count": 22,
   "id": "visible-arctic",
   "metadata": {},
   "outputs": [],
   "source": [
    "import random"
   ]
  },
  {
   "cell_type": "code",
   "execution_count": 23,
   "id": "golden-israeli",
   "metadata": {},
   "outputs": [
    {
     "data": {
      "text/plain": [
       "'Dallas Cowboys!'"
      ]
     },
     "execution_count": 23,
     "metadata": {},
     "output_type": "execute_result"
    }
   ],
   "source": [
    "random.choice(awesome_qualities)"
   ]
  },
  {
   "cell_type": "code",
   "execution_count": 27,
   "id": "likely-facing",
   "metadata": {},
   "outputs": [
    {
     "data": {
      "text/plain": [
       "'Texas is the best state because of the bluebonnets.'"
      ]
     },
     "execution_count": 27,
     "metadata": {},
     "output_type": "execute_result"
    }
   ],
   "source": [
    "f\"Texas is the best state because of the {random.choice(awesome_qualities)}\""
   ]
  },
  {
   "cell_type": "code",
   "execution_count": null,
   "id": "progressive-stretch",
   "metadata": {},
   "outputs": [],
   "source": []
  }
 ],
 "metadata": {
  "kernelspec": {
   "display_name": "Python 3",
   "language": "python",
   "name": "python3"
  },
  "language_info": {
   "codemirror_mode": {
    "name": "ipython",
    "version": 3
   },
   "file_extension": ".py",
   "mimetype": "text/x-python",
   "name": "python",
   "nbconvert_exporter": "python",
   "pygments_lexer": "ipython3",
   "version": "3.8.6"
  },
  "toc": {
   "base_numbering": 1,
   "nav_menu": {},
   "number_sections": false,
   "sideBar": true,
   "skip_h1_title": true,
   "title_cell": "Table of Contents",
   "title_sidebar": "Contents",
   "toc_cell": false,
   "toc_position": {
    "height": "calc(100% - 180px)",
    "left": "10px",
    "top": "150px",
    "width": "288px"
   },
   "toc_section_display": true,
   "toc_window_display": true
  }
 },
 "nbformat": 4,
 "nbformat_minor": 5
}
